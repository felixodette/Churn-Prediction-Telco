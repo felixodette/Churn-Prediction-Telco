{
 "cells": [
  {
   "cell_type": "markdown",
   "metadata": {},
   "source": [
    "# Churn Prediction of Telco Subscribers\n",
    "So.... what is **churn**?\n",
    "Churn is defined in business terms as ‘when a client cancels a subscription to a service they have been using.’ A common example is people cancelling Spotify/Netflix subscriptions. So, Churn Prediction is essentially predicting which clients are most likely to cancel a subscription i.e. ‘leave a company’ based on their usage of the service.\n",
    "\n",
    "From a company point of view, it is necessary to gain this information because acquiring new customers is often arduous and costlier than retaining old ones. Hence, the insights gained from Churn Prediction helps them to focus more on the customers that are at a high risk of leaving.\n",
    "\n",
    "The output in the case of Churn prediction is a simple yes or a no. That makes it a classification problem where you have to predict 1 if the customer is likely to churn and 0 otherwise.\n",
    "\n",
    "In this project we will model contractual churn in the telecom business"
   ]
  },
  {
   "cell_type": "markdown",
   "metadata": {},
   "source": [
    "# Importing required dependencies"
   ]
  },
  {
   "cell_type": "code",
   "execution_count": 1,
   "metadata": {},
   "outputs": [],
   "source": [
    "# import packages\n",
    "import pandas as pd\n",
    "import numpy as np \n",
    "import scipy \n",
    "import statsmodels\n",
    "import matplotlib.pyplot as plt \n",
    "import seaborn as sns\n",
    "from sklearn.preprocessing import StandardScaler, LabelEncoder\n",
    "from sklearn import tree\n",
    "from sklearn.model_selection import train_test_split, RandomizedSearchCV\n",
    "from sklearn.metrics import accuracy_score, precision_score, recall_score\n",
    "from sklearn.linear_model import LogisticRegression\n",
    "from sklearn.ensemble import RandomForestClassifier\n",
    "from xgboost import XGBClassifier\n",
    "\n",
    "plt.rcParams.update({'font.size': 13, 'figure.figsize': [8, 6]})"
   ]
  },
  {
   "cell_type": "markdown",
   "metadata": {},
   "source": [
    "# Loading dataset"
   ]
  },
  {
   "cell_type": "code",
   "execution_count": 2,
   "metadata": {},
   "outputs": [
    {
     "data": {
      "text/html": [
       "<div>\n",
       "<style scoped>\n",
       "    .dataframe tbody tr th:only-of-type {\n",
       "        vertical-align: middle;\n",
       "    }\n",
       "\n",
       "    .dataframe tbody tr th {\n",
       "        vertical-align: top;\n",
       "    }\n",
       "\n",
       "    .dataframe thead th {\n",
       "        text-align: right;\n",
       "    }\n",
       "</style>\n",
       "<table border=\"1\" class=\"dataframe\">\n",
       "  <thead>\n",
       "    <tr style=\"text-align: right;\">\n",
       "      <th></th>\n",
       "      <th>customerID</th>\n",
       "      <th>gender</th>\n",
       "      <th>SeniorCitizen</th>\n",
       "      <th>Partner</th>\n",
       "      <th>Dependents</th>\n",
       "      <th>tenure</th>\n",
       "      <th>PhoneService</th>\n",
       "      <th>MultipleLines</th>\n",
       "      <th>InternetService</th>\n",
       "      <th>OnlineSecurity</th>\n",
       "      <th>...</th>\n",
       "      <th>DeviceProtection</th>\n",
       "      <th>TechSupport</th>\n",
       "      <th>StreamingTV</th>\n",
       "      <th>StreamingMovies</th>\n",
       "      <th>Contract</th>\n",
       "      <th>PaperlessBilling</th>\n",
       "      <th>PaymentMethod</th>\n",
       "      <th>MonthlyCharges</th>\n",
       "      <th>TotalCharges</th>\n",
       "      <th>Churn</th>\n",
       "    </tr>\n",
       "  </thead>\n",
       "  <tbody>\n",
       "    <tr>\n",
       "      <th>0</th>\n",
       "      <td>7590-VHVEG</td>\n",
       "      <td>Female</td>\n",
       "      <td>0</td>\n",
       "      <td>Yes</td>\n",
       "      <td>No</td>\n",
       "      <td>1</td>\n",
       "      <td>No</td>\n",
       "      <td>No phone service</td>\n",
       "      <td>DSL</td>\n",
       "      <td>No</td>\n",
       "      <td>...</td>\n",
       "      <td>No</td>\n",
       "      <td>No</td>\n",
       "      <td>No</td>\n",
       "      <td>No</td>\n",
       "      <td>Month-to-month</td>\n",
       "      <td>Yes</td>\n",
       "      <td>Electronic check</td>\n",
       "      <td>29.85</td>\n",
       "      <td>29.85</td>\n",
       "      <td>No</td>\n",
       "    </tr>\n",
       "    <tr>\n",
       "      <th>1</th>\n",
       "      <td>5575-GNVDE</td>\n",
       "      <td>Male</td>\n",
       "      <td>0</td>\n",
       "      <td>No</td>\n",
       "      <td>No</td>\n",
       "      <td>34</td>\n",
       "      <td>Yes</td>\n",
       "      <td>No</td>\n",
       "      <td>DSL</td>\n",
       "      <td>Yes</td>\n",
       "      <td>...</td>\n",
       "      <td>Yes</td>\n",
       "      <td>No</td>\n",
       "      <td>No</td>\n",
       "      <td>No</td>\n",
       "      <td>One year</td>\n",
       "      <td>No</td>\n",
       "      <td>Mailed check</td>\n",
       "      <td>56.95</td>\n",
       "      <td>1889.5</td>\n",
       "      <td>No</td>\n",
       "    </tr>\n",
       "    <tr>\n",
       "      <th>2</th>\n",
       "      <td>3668-QPYBK</td>\n",
       "      <td>Male</td>\n",
       "      <td>0</td>\n",
       "      <td>No</td>\n",
       "      <td>No</td>\n",
       "      <td>2</td>\n",
       "      <td>Yes</td>\n",
       "      <td>No</td>\n",
       "      <td>DSL</td>\n",
       "      <td>Yes</td>\n",
       "      <td>...</td>\n",
       "      <td>No</td>\n",
       "      <td>No</td>\n",
       "      <td>No</td>\n",
       "      <td>No</td>\n",
       "      <td>Month-to-month</td>\n",
       "      <td>Yes</td>\n",
       "      <td>Mailed check</td>\n",
       "      <td>53.85</td>\n",
       "      <td>108.15</td>\n",
       "      <td>Yes</td>\n",
       "    </tr>\n",
       "    <tr>\n",
       "      <th>3</th>\n",
       "      <td>7795-CFOCW</td>\n",
       "      <td>Male</td>\n",
       "      <td>0</td>\n",
       "      <td>No</td>\n",
       "      <td>No</td>\n",
       "      <td>45</td>\n",
       "      <td>No</td>\n",
       "      <td>No phone service</td>\n",
       "      <td>DSL</td>\n",
       "      <td>Yes</td>\n",
       "      <td>...</td>\n",
       "      <td>Yes</td>\n",
       "      <td>Yes</td>\n",
       "      <td>No</td>\n",
       "      <td>No</td>\n",
       "      <td>One year</td>\n",
       "      <td>No</td>\n",
       "      <td>Bank transfer (automatic)</td>\n",
       "      <td>42.30</td>\n",
       "      <td>1840.75</td>\n",
       "      <td>No</td>\n",
       "    </tr>\n",
       "    <tr>\n",
       "      <th>4</th>\n",
       "      <td>9237-HQITU</td>\n",
       "      <td>Female</td>\n",
       "      <td>0</td>\n",
       "      <td>No</td>\n",
       "      <td>No</td>\n",
       "      <td>2</td>\n",
       "      <td>Yes</td>\n",
       "      <td>No</td>\n",
       "      <td>Fiber optic</td>\n",
       "      <td>No</td>\n",
       "      <td>...</td>\n",
       "      <td>No</td>\n",
       "      <td>No</td>\n",
       "      <td>No</td>\n",
       "      <td>No</td>\n",
       "      <td>Month-to-month</td>\n",
       "      <td>Yes</td>\n",
       "      <td>Electronic check</td>\n",
       "      <td>70.70</td>\n",
       "      <td>151.65</td>\n",
       "      <td>Yes</td>\n",
       "    </tr>\n",
       "  </tbody>\n",
       "</table>\n",
       "<p>5 rows × 21 columns</p>\n",
       "</div>"
      ],
      "text/plain": [
       "   customerID  gender  SeniorCitizen Partner Dependents  tenure PhoneService  \\\n",
       "0  7590-VHVEG  Female              0     Yes         No       1           No   \n",
       "1  5575-GNVDE    Male              0      No         No      34          Yes   \n",
       "2  3668-QPYBK    Male              0      No         No       2          Yes   \n",
       "3  7795-CFOCW    Male              0      No         No      45           No   \n",
       "4  9237-HQITU  Female              0      No         No       2          Yes   \n",
       "\n",
       "      MultipleLines InternetService OnlineSecurity  ... DeviceProtection  \\\n",
       "0  No phone service             DSL             No  ...               No   \n",
       "1                No             DSL            Yes  ...              Yes   \n",
       "2                No             DSL            Yes  ...               No   \n",
       "3  No phone service             DSL            Yes  ...              Yes   \n",
       "4                No     Fiber optic             No  ...               No   \n",
       "\n",
       "  TechSupport StreamingTV StreamingMovies        Contract PaperlessBilling  \\\n",
       "0          No          No              No  Month-to-month              Yes   \n",
       "1          No          No              No        One year               No   \n",
       "2          No          No              No  Month-to-month              Yes   \n",
       "3         Yes          No              No        One year               No   \n",
       "4          No          No              No  Month-to-month              Yes   \n",
       "\n",
       "               PaymentMethod MonthlyCharges  TotalCharges Churn  \n",
       "0           Electronic check          29.85         29.85    No  \n",
       "1               Mailed check          56.95        1889.5    No  \n",
       "2               Mailed check          53.85        108.15   Yes  \n",
       "3  Bank transfer (automatic)          42.30       1840.75    No  \n",
       "4           Electronic check          70.70        151.65   Yes  \n",
       "\n",
       "[5 rows x 21 columns]"
      ]
     },
     "execution_count": 2,
     "metadata": {},
     "output_type": "execute_result"
    }
   ],
   "source": [
    "# read in the data\n",
    "telco_raw = pd.read_csv(r'./data/telco.csv')\n",
    "telco_raw.head()"
   ]
  },
  {
   "cell_type": "markdown",
   "metadata": {},
   "source": [
    "# Exploratory Data Analysis\n",
    "Let's check the data structure and see if it requires cleaning or any transformations."
   ]
  },
  {
   "cell_type": "code",
   "execution_count": 3,
   "metadata": {},
   "outputs": [
    {
     "name": "stdout",
     "output_type": "stream",
     "text": [
      "<class 'pandas.core.frame.DataFrame'>\n",
      "RangeIndex: 7043 entries, 0 to 7042\n",
      "Data columns (total 21 columns):\n",
      " #   Column            Non-Null Count  Dtype  \n",
      "---  ------            --------------  -----  \n",
      " 0   customerID        7043 non-null   object \n",
      " 1   gender            7043 non-null   object \n",
      " 2   SeniorCitizen     7043 non-null   int64  \n",
      " 3   Partner           7043 non-null   object \n",
      " 4   Dependents        7043 non-null   object \n",
      " 5   tenure            7043 non-null   int64  \n",
      " 6   PhoneService      7043 non-null   object \n",
      " 7   MultipleLines     7043 non-null   object \n",
      " 8   InternetService   7043 non-null   object \n",
      " 9   OnlineSecurity    7043 non-null   object \n",
      " 10  OnlineBackup      7043 non-null   object \n",
      " 11  DeviceProtection  7043 non-null   object \n",
      " 12  TechSupport       7043 non-null   object \n",
      " 13  StreamingTV       7043 non-null   object \n",
      " 14  StreamingMovies   7043 non-null   object \n",
      " 15  Contract          7043 non-null   object \n",
      " 16  PaperlessBilling  7043 non-null   object \n",
      " 17  PaymentMethod     7043 non-null   object \n",
      " 18  MonthlyCharges    7043 non-null   float64\n",
      " 19  TotalCharges      7043 non-null   object \n",
      " 20  Churn             7043 non-null   object \n",
      "dtypes: float64(1), int64(2), object(18)\n",
      "memory usage: 1.1+ MB\n"
     ]
    }
   ],
   "source": [
    "telco_raw.info()"
   ]
  },
  {
   "cell_type": "code",
   "execution_count": 4,
   "metadata": {},
   "outputs": [
    {
     "data": {
      "text/plain": [
       "customerID          0\n",
       "gender              0\n",
       "SeniorCitizen       0\n",
       "Partner             0\n",
       "Dependents          0\n",
       "tenure              0\n",
       "PhoneService        0\n",
       "MultipleLines       0\n",
       "InternetService     0\n",
       "OnlineSecurity      0\n",
       "OnlineBackup        0\n",
       "DeviceProtection    0\n",
       "TechSupport         0\n",
       "StreamingTV         0\n",
       "StreamingMovies     0\n",
       "Contract            0\n",
       "PaperlessBilling    0\n",
       "PaymentMethod       0\n",
       "MonthlyCharges      0\n",
       "TotalCharges        0\n",
       "Churn               0\n",
       "dtype: int64"
      ]
     },
     "execution_count": 4,
     "metadata": {},
     "output_type": "execute_result"
    }
   ],
   "source": [
    "telco_raw.isnull().sum()"
   ]
  },
  {
   "cell_type": "markdown",
   "metadata": {},
   "source": [
    "The data has just over 7K rows and 21 columns. Most features are strings, except for tenure and monthly charges. Total charges feature needs further checks as it appears to have a string in it."
   ]
  },
  {
   "cell_type": "markdown",
   "metadata": {},
   "source": [
    "# Data visualization\n",
    "Let's explore the data to find underlying patterns. For categorical columns, we'll plot graphs against the churn column."
   ]
  },
  {
   "cell_type": "code",
   "execution_count": 5,
   "metadata": {},
   "outputs": [
    {
     "data": {
      "text/html": [
       "<div>\n",
       "<style scoped>\n",
       "    .dataframe tbody tr th:only-of-type {\n",
       "        vertical-align: middle;\n",
       "    }\n",
       "\n",
       "    .dataframe tbody tr th {\n",
       "        vertical-align: top;\n",
       "    }\n",
       "\n",
       "    .dataframe thead th {\n",
       "        text-align: right;\n",
       "    }\n",
       "</style>\n",
       "<table border=\"1\" class=\"dataframe\">\n",
       "  <thead>\n",
       "    <tr style=\"text-align: right;\">\n",
       "      <th></th>\n",
       "      <th>Female</th>\n",
       "      <th>Male</th>\n",
       "    </tr>\n",
       "    <tr>\n",
       "      <th>Churn</th>\n",
       "      <th></th>\n",
       "      <th></th>\n",
       "    </tr>\n",
       "  </thead>\n",
       "  <tbody>\n",
       "    <tr>\n",
       "      <th>No</th>\n",
       "      <td>2549</td>\n",
       "      <td>2625</td>\n",
       "    </tr>\n",
       "    <tr>\n",
       "      <th>Yes</th>\n",
       "      <td>939</td>\n",
       "      <td>930</td>\n",
       "    </tr>\n",
       "  </tbody>\n",
       "</table>\n",
       "</div>"
      ],
      "text/plain": [
       "       Female  Male\n",
       "Churn              \n",
       "No       2549  2625\n",
       "Yes       939   930"
      ]
     },
     "execution_count": 5,
     "metadata": {},
     "output_type": "execute_result"
    }
   ],
   "source": [
    "gender = pd.DataFrame(telco_raw.groupby('gender')['Churn'].value_counts().unstack(0))\n",
    "gender.columns.name=None\n",
    "gender"
   ]
  },
  {
   "cell_type": "markdown",
   "metadata": {},
   "source": [
    "From the above table, we can see that gender isn't a contributing factor to customer churn in this dataset as their numbers of both genders, that is, whether churned or not, are about the same."
   ]
  },
  {
   "cell_type": "code",
   "execution_count": 6,
   "metadata": {},
   "outputs": [
    {
     "data": {
      "text/html": [
       "<div>\n",
       "<style scoped>\n",
       "    .dataframe tbody tr th:only-of-type {\n",
       "        vertical-align: middle;\n",
       "    }\n",
       "\n",
       "    .dataframe tbody tr th {\n",
       "        vertical-align: top;\n",
       "    }\n",
       "\n",
       "    .dataframe thead th {\n",
       "        text-align: right;\n",
       "    }\n",
       "</style>\n",
       "<table border=\"1\" class=\"dataframe\">\n",
       "  <thead>\n",
       "    <tr style=\"text-align: right;\">\n",
       "      <th></th>\n",
       "      <th>No</th>\n",
       "      <th>Yes</th>\n",
       "    </tr>\n",
       "    <tr>\n",
       "      <th>InternetService</th>\n",
       "      <th></th>\n",
       "      <th></th>\n",
       "    </tr>\n",
       "  </thead>\n",
       "  <tbody>\n",
       "    <tr>\n",
       "      <th>DSL</th>\n",
       "      <td>1962</td>\n",
       "      <td>459</td>\n",
       "    </tr>\n",
       "    <tr>\n",
       "      <th>Fiber optic</th>\n",
       "      <td>1799</td>\n",
       "      <td>1297</td>\n",
       "    </tr>\n",
       "    <tr>\n",
       "      <th>No</th>\n",
       "      <td>1413</td>\n",
       "      <td>113</td>\n",
       "    </tr>\n",
       "  </tbody>\n",
       "</table>\n",
       "</div>"
      ],
      "text/plain": [
       "                   No   Yes\n",
       "InternetService            \n",
       "DSL              1962   459\n",
       "Fiber optic      1799  1297\n",
       "No               1413   113"
      ]
     },
     "execution_count": 6,
     "metadata": {},
     "output_type": "execute_result"
    }
   ],
   "source": [
    "internet = pd.DataFrame(telco_raw.groupby('Churn')['InternetService'].value_counts().unstack(0))\n",
    "internet.columns.name=None\n",
    "internet"
   ]
  },
  {
   "cell_type": "code",
   "execution_count": 7,
   "metadata": {},
   "outputs": [],
   "source": [
    "internet.reset_index(inplace=True)"
   ]
  },
  {
   "cell_type": "code",
   "execution_count": 8,
   "metadata": {},
   "outputs": [],
   "source": [
    "def build_chart(data):\n",
    "    \"\"\"\n",
    "        styling for graphs.\n",
    "    \"\"\"\n",
    "    ax = data\n",
    "    ax.spines['top'].set_visible(False)\n",
    "    ax.spines['right'].set_visible(False)\n",
    "    ax.spines['left'].set_visible(False)\n",
    "    plt.xticks(color='grey')\n",
    "    plt.yticks(color='grey')"
   ]
  },
  {
   "cell_type": "code",
   "execution_count": 10,
   "metadata": {},
   "outputs": [
    {
     "data": {
      "text/html": [
       "<div>\n",
       "<style scoped>\n",
       "    .dataframe tbody tr th:only-of-type {\n",
       "        vertical-align: middle;\n",
       "    }\n",
       "\n",
       "    .dataframe tbody tr th {\n",
       "        vertical-align: top;\n",
       "    }\n",
       "\n",
       "    .dataframe thead th {\n",
       "        text-align: right;\n",
       "    }\n",
       "</style>\n",
       "<table border=\"1\" class=\"dataframe\">\n",
       "  <thead>\n",
       "    <tr style=\"text-align: right;\">\n",
       "      <th></th>\n",
       "      <th>InternetService</th>\n",
       "      <th>No</th>\n",
       "      <th>Yes</th>\n",
       "    </tr>\n",
       "  </thead>\n",
       "  <tbody>\n",
       "    <tr>\n",
       "      <th>0</th>\n",
       "      <td>DSL</td>\n",
       "      <td>1962</td>\n",
       "      <td>459</td>\n",
       "    </tr>\n",
       "    <tr>\n",
       "      <th>1</th>\n",
       "      <td>Fiber optic</td>\n",
       "      <td>1799</td>\n",
       "      <td>1297</td>\n",
       "    </tr>\n",
       "    <tr>\n",
       "      <th>2</th>\n",
       "      <td>No</td>\n",
       "      <td>1413</td>\n",
       "      <td>113</td>\n",
       "    </tr>\n",
       "  </tbody>\n",
       "</table>\n",
       "</div>"
      ],
      "text/plain": [
       "  InternetService    No   Yes\n",
       "0             DSL  1962   459\n",
       "1     Fiber optic  1799  1297\n",
       "2              No  1413   113"
      ]
     },
     "execution_count": 10,
     "metadata": {},
     "output_type": "execute_result"
    }
   ],
   "source": [
    "internet"
   ]
  },
  {
   "cell_type": "code",
   "execution_count": 11,
   "metadata": {},
   "outputs": [
    {
     "data": {
      "image/png": "[encoded data removed]",
      "text/plain": [
       "<Figure size 576x432 with 1 Axes>"
      ]
     },
     "metadata": {
      "needs_background": "dark"
     },
     "output_type": "display_data"
    }
   ],
   "source": [
    "g=sns.countplot(x='InternetService', hue='Churn', data=telco_raw, palette=['silver', 'midnightblue'])\n",
    "build_chart(g)"
   ]
  },
  {
   "cell_type": "markdown",
   "metadata": {},
   "source": [
    "From the chart above we can see that people using Fibre Optice services have a higher churn rate. The company must improve on this service."
   ]
  },
  {
   "cell_type": "code",
   "execution_count": 12,
   "metadata": {},
   "outputs": [
    {
     "data": {
      "image/png": "[encoded data removed]",
      "text/plain": [
       "<Figure size 576x432 with 1 Axes>"
      ]
     },
     "metadata": {
      "needs_background": "dark"
     },
     "output_type": "display_data"
    }
   ],
   "source": [
    "g=sns.countplot(x='TechSupport', hue='Churn', data=telco_raw, palette=['silver', 'midnightblue'])\n",
    "build_chart(g)"
   ]
  },
  {
   "cell_type": "markdown",
   "metadata": {},
   "source": [
    "Subscribers who don't have tech support tend to churn more."
   ]
  },
  {
   "cell_type": "code",
   "execution_count": 13,
   "metadata": {},
   "outputs": [
    {
     "data": {
      "image/png": "[encoded data removed]",
      "text/plain": [
       "<Figure size 576x432 with 1 Axes>"
      ]
     },
     "metadata": {
      "needs_background": "dark"
     },
     "output_type": "display_data"
    }
   ],
   "source": [
    "g = sns.histplot(x='tenure', hue='Churn', data=telco_raw, multiple='dodge', palette=['silver', 'midnightblue'])\n",
    "build_chart(g)"
   ]
  },
  {
   "cell_type": "markdown",
   "metadata": {},
   "source": [
    "Churn rates seem to be higher in the initial 5 months of tenure, about the time when new customers are taking the service through its paces, and deciding whether to keep or discard the subscription."
   ]
  },
  {
   "cell_type": "code",
   "execution_count": 14,
   "metadata": {},
   "outputs": [
    {
     "data": {
      "image/png": "[encoded data removed]",
      "text/plain": [
       "<Figure size 576x432 with 1 Axes>"
      ]
     },
     "metadata": {
      "needs_background": "dark"
     },
     "output_type": "display_data"
    }
   ],
   "source": [
    "g = sns.histplot(x='MonthlyCharges', hue='Churn', data=telco_raw, multiple='dodge', palette=['silver', 'midnightblue'])\n",
    "build_chart(g)"
   ]
  },
  {
   "cell_type": "markdown",
   "metadata": {},
   "source": [
    "There's no particular trend in Monthly Charges related Churn. However, subscribers with charges between 70 and 100USD churned more than the rest."
   ]
  },
  {
   "cell_type": "markdown",
   "metadata": {},
   "source": [
    "# Data Preparation"
   ]
  },
  {
   "cell_type": "markdown",
   "metadata": {},
   "source": [
    "We need to make sure that the data is in the right format to be used for predictions in ML. ML models don't work well with categorical inputs. Let's separate categorical and numerical columns and perform:\n",
    "- one-hot encoding, and\n",
    "- scaling."
   ]
  },
  {
   "cell_type": "code",
   "execution_count": 15,
   "metadata": {},
   "outputs": [],
   "source": [
    "# identify target and id columns\n",
    "custid = ['customerID']\n",
    "target = ['Churn']\n",
    "\n",
    "# change the total charges feature to numeric and ffill nan values\n",
    "telco_raw['TotalCharges'] = telco_raw['TotalCharges'].apply(pd.to_numeric, errors='coerce').fillna(method='ffill')\n",
    "\n",
    "# get categorical and numerical columns and apply one hot encoding\n",
    "categorical = telco_raw.nunique()[telco_raw.nunique()<10].keys().tolist()\n",
    "categorical.remove(target[0])\n",
    "numerical = [col for col in telco_raw.columns if col not in custid+target+categorical]\n",
    "telco_raw = pd.get_dummies(data=telco_raw, columns=categorical, drop_first=True)\n",
    "\n",
    "# scaling numerical columns\n",
    "scaler = StandardScaler()\n",
    "scaled_numerical = scaler.fit_transform(telco_raw[numerical])\n",
    "scaled_numerical = pd.DataFrame(scaled_numerical, columns=numerical)\n",
    "\n",
    "# pputting it all together\n",
    "telco_raw = telco_raw.drop(columns=numerical, axis=1)\n",
    "telco = telco_raw.merge(right=scaled_numerical, how='left', left_index=True, right_index=True)"
   ]
  },
  {
   "cell_type": "markdown",
   "metadata": {},
   "source": [
    "# Supervised Machine Learning\n",
    "What we'll do:\n",
    "- Split data to training and testing sets\n",
    "- Initialize the training model \n",
    "- Predict values on testing data \n",
    "- Measure performance on testing data "
   ]
  },
  {
   "cell_type": "code",
   "execution_count": 16,
   "metadata": {},
   "outputs": [],
   "source": [
    "X = telco.drop(['customerID', 'Churn'], axis=1)\n",
    "Y = telco['Churn']\n",
    "train_x, test_x, train_y, test_y = train_test_split(X, Y, test_size=0.25, random_state=43)"
   ]
  },
  {
   "cell_type": "markdown",
   "metadata": {},
   "source": [
    "## Decision Tree Classifier"
   ]
  },
  {
   "cell_type": "code",
   "execution_count": 17,
   "metadata": {},
   "outputs": [
    {
     "data": {
      "text/html": [
       "<style type=\"text/css\">\n",
       "#T_eda5a_row0_col1, #T_eda5a_row0_col2, #T_eda5a_row1_col1, #T_eda5a_row1_col2, #T_eda5a_row2_col1, #T_eda5a_row2_col2, #T_eda5a_row6_col3, #T_eda5a_row12_col0 {\n",
       "  background-color: red;\n",
       "}\n",
       "</style>\n",
       "<table id=\"T_eda5a_\">\n",
       "  <thead>\n",
       "    <tr>\n",
       "      <th class=\"blank level0\" >&nbsp;</th>\n",
       "      <th class=\"col_heading level0 col0\" >Max_Depth</th>\n",
       "      <th class=\"col_heading level0 col1\" >Accuracy</th>\n",
       "      <th class=\"col_heading level0 col2\" >Precision</th>\n",
       "      <th class=\"col_heading level0 col3\" >Recall</th>\n",
       "    </tr>\n",
       "  </thead>\n",
       "  <tbody>\n",
       "    <tr>\n",
       "      <th id=\"T_eda5a_level0_row0\" class=\"row_heading level0 row0\" >0</th>\n",
       "      <td id=\"T_eda5a_row0_col0\" class=\"data row0 col0\" >2.000000</td>\n",
       "      <td id=\"T_eda5a_row0_col1\" class=\"data row0 col1\" >0.797842</td>\n",
       "      <td id=\"T_eda5a_row0_col2\" class=\"data row0 col2\" >0.687500</td>\n",
       "      <td id=\"T_eda5a_row0_col3\" class=\"data row0 col3\" >0.426724</td>\n",
       "    </tr>\n",
       "    <tr>\n",
       "      <th id=\"T_eda5a_level0_row1\" class=\"row_heading level0 row1\" >1</th>\n",
       "      <td id=\"T_eda5a_row1_col0\" class=\"data row1 col0\" >3.000000</td>\n",
       "      <td id=\"T_eda5a_row1_col1\" class=\"data row1 col1\" >0.797842</td>\n",
       "      <td id=\"T_eda5a_row1_col2\" class=\"data row1 col2\" >0.687500</td>\n",
       "      <td id=\"T_eda5a_row1_col3\" class=\"data row1 col3\" >0.426724</td>\n",
       "    </tr>\n",
       "    <tr>\n",
       "      <th id=\"T_eda5a_level0_row2\" class=\"row_heading level0 row2\" >2</th>\n",
       "      <td id=\"T_eda5a_row2_col0\" class=\"data row2 col0\" >4.000000</td>\n",
       "      <td id=\"T_eda5a_row2_col1\" class=\"data row2 col1\" >0.797842</td>\n",
       "      <td id=\"T_eda5a_row2_col2\" class=\"data row2 col2\" >0.687500</td>\n",
       "      <td id=\"T_eda5a_row2_col3\" class=\"data row2 col3\" >0.426724</td>\n",
       "    </tr>\n",
       "    <tr>\n",
       "      <th id=\"T_eda5a_level0_row3\" class=\"row_heading level0 row3\" >3</th>\n",
       "      <td id=\"T_eda5a_row3_col0\" class=\"data row3 col0\" >5.000000</td>\n",
       "      <td id=\"T_eda5a_row3_col1\" class=\"data row3 col1\" >0.794435</td>\n",
       "      <td id=\"T_eda5a_row3_col2\" class=\"data row3 col2\" >0.622010</td>\n",
       "      <td id=\"T_eda5a_row3_col3\" class=\"data row3 col3\" >0.560345</td>\n",
       "    </tr>\n",
       "    <tr>\n",
       "      <th id=\"T_eda5a_level0_row4\" class=\"row_heading level0 row4\" >4</th>\n",
       "      <td id=\"T_eda5a_row4_col0\" class=\"data row4 col0\" >6.000000</td>\n",
       "      <td id=\"T_eda5a_row4_col1\" class=\"data row4 col1\" >0.784781</td>\n",
       "      <td id=\"T_eda5a_row4_col2\" class=\"data row4 col2\" >0.621083</td>\n",
       "      <td id=\"T_eda5a_row4_col3\" class=\"data row4 col3\" >0.469828</td>\n",
       "    </tr>\n",
       "    <tr>\n",
       "      <th id=\"T_eda5a_level0_row5\" class=\"row_heading level0 row5\" >5</th>\n",
       "      <td id=\"T_eda5a_row5_col0\" class=\"data row5 col0\" >7.000000</td>\n",
       "      <td id=\"T_eda5a_row5_col1\" class=\"data row5 col1\" >0.781942</td>\n",
       "      <td id=\"T_eda5a_row5_col2\" class=\"data row5 col2\" >0.621212</td>\n",
       "      <td id=\"T_eda5a_row5_col3\" class=\"data row5 col3\" >0.441810</td>\n",
       "    </tr>\n",
       "    <tr>\n",
       "      <th id=\"T_eda5a_level0_row6\" class=\"row_heading level0 row6\" >6</th>\n",
       "      <td id=\"T_eda5a_row6_col0\" class=\"data row6 col0\" >8.000000</td>\n",
       "      <td id=\"T_eda5a_row6_col1\" class=\"data row6 col1\" >0.770017</td>\n",
       "      <td id=\"T_eda5a_row6_col2\" class=\"data row6 col2\" >0.562633</td>\n",
       "      <td id=\"T_eda5a_row6_col3\" class=\"data row6 col3\" >0.571121</td>\n",
       "    </tr>\n",
       "    <tr>\n",
       "      <th id=\"T_eda5a_level0_row7\" class=\"row_heading level0 row7\" >7</th>\n",
       "      <td id=\"T_eda5a_row7_col0\" class=\"data row7 col0\" >9.000000</td>\n",
       "      <td id=\"T_eda5a_row7_col1\" class=\"data row7 col1\" >0.759228</td>\n",
       "      <td id=\"T_eda5a_row7_col2\" class=\"data row7 col2\" >0.549751</td>\n",
       "      <td id=\"T_eda5a_row7_col3\" class=\"data row7 col3\" >0.476293</td>\n",
       "    </tr>\n",
       "    <tr>\n",
       "      <th id=\"T_eda5a_level0_row8\" class=\"row_heading level0 row8\" >8</th>\n",
       "      <td id=\"T_eda5a_row8_col0\" class=\"data row8 col0\" >10.000000</td>\n",
       "      <td id=\"T_eda5a_row8_col1\" class=\"data row8 col1\" >0.752981</td>\n",
       "      <td id=\"T_eda5a_row8_col2\" class=\"data row8 col2\" >0.530526</td>\n",
       "      <td id=\"T_eda5a_row8_col3\" class=\"data row8 col3\" >0.543103</td>\n",
       "    </tr>\n",
       "    <tr>\n",
       "      <th id=\"T_eda5a_level0_row9\" class=\"row_heading level0 row9\" >9</th>\n",
       "      <td id=\"T_eda5a_row9_col0\" class=\"data row9 col0\" >11.000000</td>\n",
       "      <td id=\"T_eda5a_row9_col1\" class=\"data row9 col1\" >0.754685</td>\n",
       "      <td id=\"T_eda5a_row9_col2\" class=\"data row9 col2\" >0.534783</td>\n",
       "      <td id=\"T_eda5a_row9_col3\" class=\"data row9 col3\" >0.530172</td>\n",
       "    </tr>\n",
       "    <tr>\n",
       "      <th id=\"T_eda5a_level0_row10\" class=\"row_heading level0 row10\" >10</th>\n",
       "      <td id=\"T_eda5a_row10_col0\" class=\"data row10 col0\" >12.000000</td>\n",
       "      <td id=\"T_eda5a_row10_col1\" class=\"data row10 col1\" >0.741624</td>\n",
       "      <td id=\"T_eda5a_row10_col2\" class=\"data row10 col2\" >0.509474</td>\n",
       "      <td id=\"T_eda5a_row10_col3\" class=\"data row10 col3\" >0.521552</td>\n",
       "    </tr>\n",
       "    <tr>\n",
       "      <th id=\"T_eda5a_level0_row11\" class=\"row_heading level0 row11\" >11</th>\n",
       "      <td id=\"T_eda5a_row11_col0\" class=\"data row11 col0\" >13.000000</td>\n",
       "      <td id=\"T_eda5a_row11_col1\" class=\"data row11 col1\" >0.735378</td>\n",
       "      <td id=\"T_eda5a_row11_col2\" class=\"data row11 col2\" >0.497984</td>\n",
       "      <td id=\"T_eda5a_row11_col3\" class=\"data row11 col3\" >0.532328</td>\n",
       "    </tr>\n",
       "    <tr>\n",
       "      <th id=\"T_eda5a_level0_row12\" class=\"row_heading level0 row12\" >12</th>\n",
       "      <td id=\"T_eda5a_row12_col0\" class=\"data row12 col0\" >14.000000</td>\n",
       "      <td id=\"T_eda5a_row12_col1\" class=\"data row12 col1\" >0.730267</td>\n",
       "      <td id=\"T_eda5a_row12_col2\" class=\"data row12 col2\" >0.488323</td>\n",
       "      <td id=\"T_eda5a_row12_col3\" class=\"data row12 col3\" >0.495690</td>\n",
       "    </tr>\n",
       "  </tbody>\n",
       "</table>\n"
      ],
      "text/plain": [
       "<pandas.io.formats.style.Styler at 0x10a72b250>"
      ]
     },
     "execution_count": 17,
     "metadata": {},
     "output_type": "execute_result"
    }
   ],
   "source": [
    "# hyperparameter tuning\n",
    "depth_list = list(range(2,15))\n",
    "depth_tuning = np.zeros((len(depth_list), 4))\n",
    "depth_tuning[:,0] = depth_list\n",
    "\n",
    "\n",
    "for i in range(len(depth_list)):\n",
    "    dtc = tree.DecisionTreeClassifier(max_depth=depth_list[i])\n",
    "    dtc.fit(train_x, train_y)\n",
    "    pred_test_y = dtc.predict(test_x)\n",
    "    depth_tuning[i, 1] = accuracy_score(test_y, pred_test_y)\n",
    "    depth_tuning[i, 2] = precision_score(test_y, pred_test_y, pos_label='Yes')\n",
    "    depth_tuning[i, 3] = recall_score(test_y, pred_test_y, pos_label='Yes')\n",
    "\n",
    "cols = ['Max_Depth', 'Accuracy', 'Precision', 'Recall']\n",
    "pd.DataFrame(depth_tuning, columns=cols).style.highlight_max(axis=0, color='red')"
   ]
  },
  {
   "cell_type": "code",
   "execution_count": 18,
   "metadata": {},
   "outputs": [
    {
     "name": "stdout",
     "output_type": "stream",
     "text": [
      "Accuracy Score: 0.794434980124929\n"
     ]
    }
   ],
   "source": [
    "# tuned Decision Tree Classifier\n",
    "dtc = tree.DecisionTreeClassifier(max_depth=5)\n",
    "dtc.fit(train_x, train_y)\n",
    "pred_test_y = dtc.predict(test_x)\n",
    "dtc_accuracy = accuracy_score(test_y, pred_test_y)\n",
    "print(f'Accuracy Score: {dtc_accuracy}')\n",
    "\n",
    "# import graphviz\n",
    "\n",
    "# exported = tree.export_graphviz(decision_tree=dtc, out_file=None, feature_names=train_x.columns, precision=1, class_names=['Not chunr', 'Churn'], filled=True)\n",
    "# graph = graphviz.Source(exported)\n",
    "# display(graph)"
   ]
  },
  {
   "cell_type": "markdown",
   "metadata": {},
   "source": [
    "# Logistic Regression\n",
    "## Logistic Regression Coefficients\n",
    "These can be interpreted as change in log-odds of churn associated with 1 unit increase in the feature. They're a tad difficult to interpret, so the solution is to calculate an exponent of the coefficients, giving us the change in odds associated with 1 unit increase in the feature."
   ]
  },
  {
   "cell_type": "code",
   "execution_count": 24,
   "metadata": {},
   "outputs": [
    {
     "name": "stdout",
     "output_type": "stream",
     "text": [
      "                                  Feature  Coefficient  Exp_Coefficient\n",
      "27                                 tenure    -1.391798         0.248628\n",
      "22                      Contract_Two year    -1.337359         0.262538\n",
      "21                      Contract_One year    -0.701149         0.496015\n",
      "10                     OnlineSecurity_Yes    -0.424509         0.654091\n",
      "4                        PhoneService_Yes    -0.313958         0.730549\n",
      "16                        TechSupport_Yes    -0.299464         0.741216\n",
      "3                          Dependents_Yes    -0.242629         0.784562\n",
      "12                       OnlineBackup_Yes    -0.166382         0.846723\n",
      "26             PaymentMethod_Mailed check    -0.131695         0.876608\n",
      "9      OnlineSecurity_No internet service    -0.099999         0.904838\n",
      "17        StreamingTV_No internet service    -0.099999         0.904838\n",
      "15        TechSupport_No internet service    -0.099999         0.904838\n",
      "19    StreamingMovies_No internet service    -0.099999         0.904838\n",
      "8                      InternetService_No    -0.099999         0.904838\n",
      "11       OnlineBackup_No internet service    -0.099999         0.904838\n",
      "13   DeviceProtection_No internet service    -0.099999         0.904838\n",
      "28                         MonthlyCharges    -0.087733         0.916006\n",
      "24  PaymentMethod_Credit card (automatic)    -0.063479         0.938494\n",
      "14                   DeviceProtection_Yes    -0.015832         0.984293\n",
      "2                             Partner_Yes     0.006222         1.006241\n",
      "0                             gender_Male     0.050723         1.052031\n",
      "18                        StreamingTV_Yes     0.190702         1.210099\n",
      "20                    StreamingMovies_Yes     0.208586         1.231935\n",
      "1                         SeniorCitizen_1     0.212647         1.236948\n",
      "6                       MultipleLines_Yes     0.289394         1.335618\n",
      "5          MultipleLines_No phone service     0.311021         1.364818\n",
      "23                   PaperlessBilling_Yes     0.321721         1.379499\n",
      "25         PaymentMethod_Electronic check     0.325787         1.385120\n",
      "29                           TotalCharges     0.667756         1.949856\n",
      "7             InternetService_Fiber optic     0.848796         2.336831\n",
      "Accuracy Score: 0.8023850085178875\n"
     ]
    }
   ],
   "source": [
    "logreg = LogisticRegression()\n",
    "logreg.fit(train_x, train_y)\n",
    "pred_test_y = logreg.predict(test_x)\n",
    "coefficients = pd.concat([pd.DataFrame(train_x.columns), pd.DataFrame(np.transpose(logreg.coef_))], axis=1)\n",
    "coefficients.columns = ['Feature', 'Coefficient']\n",
    "coefficients['Exp_Coefficient'] = np.exp(coefficients['Coefficient'])\n",
    "coefficients = coefficients[coefficients['Coefficient']!=0]\n",
    "print(coefficients.sort_values(by='Coefficient'))\n",
    "logreg_accuracy = accuracy_score(test_y, pred_test_y)\n",
    "print(f'Accuracy Score: {logreg_accuracy}')\n"
   ]
  },
  {
   "cell_type": "markdown",
   "metadata": {},
   "source": [
    "## Random Forest Classifier"
   ]
  },
  {
   "cell_type": "code",
   "execution_count": 21,
   "metadata": {},
   "outputs": [
    {
     "name": "stdout",
     "output_type": "stream",
     "text": [
      "Fitting 3 folds for each of 10 candidates, totalling 30 fits\n"
     ]
    },
    {
     "name": "stderr",
     "output_type": "stream",
     "text": [
      "/Library/Frameworks/Python.framework/Versions/3.10/lib/python3.10/site-packages/sklearn/ensemble/_forest.py:422: FutureWarning: `max_features='auto'` has been deprecated in 1.1 and will be removed in 1.3. To keep the past behaviour, explicitly set `max_features='sqrt'` or remove this parameter as it is also the default value for RandomForestClassifiers and ExtraTreesClassifiers.\n",
      "  warn(\n"
     ]
    },
    {
     "name": "stdout",
     "output_type": "stream",
     "text": [
      "[CV] END max_depth=55, max_features=auto, min_samples_leaf=3, min_samples_split=5, n_estimators=300; total time=   1.6s\n"
     ]
    },
    {
     "name": "stderr",
     "output_type": "stream",
     "text": [
      "/Library/Frameworks/Python.framework/Versions/3.10/lib/python3.10/site-packages/sklearn/ensemble/_forest.py:422: FutureWarning: `max_features='auto'` has been deprecated in 1.1 and will be removed in 1.3. To keep the past behaviour, explicitly set `max_features='sqrt'` or remove this parameter as it is also the default value for RandomForestClassifiers and ExtraTreesClassifiers.\n",
      "  warn(\n"
     ]
    },
    {
     "name": "stdout",
     "output_type": "stream",
     "text": [
      "[CV] END max_depth=55, max_features=auto, min_samples_leaf=3, min_samples_split=5, n_estimators=300; total time=   1.5s\n"
     ]
    },
    {
     "name": "stderr",
     "output_type": "stream",
     "text": [
      "/Library/Frameworks/Python.framework/Versions/3.10/lib/python3.10/site-packages/sklearn/ensemble/_forest.py:422: FutureWarning: `max_features='auto'` has been deprecated in 1.1 and will be removed in 1.3. To keep the past behaviour, explicitly set `max_features='sqrt'` or remove this parameter as it is also the default value for RandomForestClassifiers and ExtraTreesClassifiers.\n",
      "  warn(\n"
     ]
    },
    {
     "name": "stdout",
     "output_type": "stream",
     "text": [
      "[CV] END max_depth=55, max_features=auto, min_samples_leaf=3, min_samples_split=5, n_estimators=300; total time=   1.3s\n",
      "[CV] END max_depth=91, max_features=sqrt, min_samples_leaf=2, min_samples_split=2, n_estimators=600; total time=   2.2s\n",
      "[CV] END max_depth=91, max_features=sqrt, min_samples_leaf=2, min_samples_split=2, n_estimators=600; total time=   2.1s\n",
      "[CV] END max_depth=91, max_features=sqrt, min_samples_leaf=2, min_samples_split=2, n_estimators=600; total time=   2.1s\n",
      "[CV] END max_depth=64, max_features=sqrt, min_samples_leaf=1, min_samples_split=5, n_estimators=600; total time=   2.2s\n",
      "[CV] END max_depth=64, max_features=sqrt, min_samples_leaf=1, min_samples_split=5, n_estimators=600; total time=   2.2s\n",
      "[CV] END max_depth=64, max_features=sqrt, min_samples_leaf=1, min_samples_split=5, n_estimators=600; total time=   2.1s\n",
      "[CV] END max_depth=64, max_features=sqrt, min_samples_leaf=1, min_samples_split=15, n_estimators=600; total time=   1.9s\n",
      "[CV] END max_depth=64, max_features=sqrt, min_samples_leaf=1, min_samples_split=15, n_estimators=600; total time=   1.9s\n",
      "[CV] END max_depth=64, max_features=sqrt, min_samples_leaf=1, min_samples_split=15, n_estimators=600; total time=   1.9s\n",
      "[CV] END max_depth=55, max_features=sqrt, min_samples_leaf=5, min_samples_split=15, n_estimators=700; total time=   2.2s\n",
      "[CV] END max_depth=55, max_features=sqrt, min_samples_leaf=5, min_samples_split=15, n_estimators=700; total time=   2.2s\n",
      "[CV] END max_depth=55, max_features=sqrt, min_samples_leaf=5, min_samples_split=15, n_estimators=700; total time=   2.2s\n",
      "[CV] END max_depth=55, max_features=sqrt, min_samples_leaf=3, min_samples_split=15, n_estimators=900; total time=   2.8s\n",
      "[CV] END max_depth=55, max_features=sqrt, min_samples_leaf=3, min_samples_split=15, n_estimators=900; total time=   2.9s\n",
      "[CV] END max_depth=55, max_features=sqrt, min_samples_leaf=3, min_samples_split=15, n_estimators=900; total time=   2.8s\n",
      "[CV] END max_depth=10, max_features=sqrt, min_samples_leaf=3, min_samples_split=15, n_estimators=1200; total time=   3.6s\n",
      "[CV] END max_depth=10, max_features=sqrt, min_samples_leaf=3, min_samples_split=15, n_estimators=1200; total time=   3.7s\n",
      "[CV] END max_depth=10, max_features=sqrt, min_samples_leaf=3, min_samples_split=15, n_estimators=1200; total time=   4.5s\n",
      "[CV] END max_depth=19, max_features=sqrt, min_samples_leaf=3, min_samples_split=15, n_estimators=1000; total time=   4.2s\n",
      "[CV] END max_depth=19, max_features=sqrt, min_samples_leaf=3, min_samples_split=15, n_estimators=1000; total time=   3.3s\n",
      "[CV] END max_depth=19, max_features=sqrt, min_samples_leaf=3, min_samples_split=15, n_estimators=1000; total time=   3.6s\n"
     ]
    },
    {
     "name": "stderr",
     "output_type": "stream",
     "text": [
      "/Library/Frameworks/Python.framework/Versions/3.10/lib/python3.10/site-packages/sklearn/ensemble/_forest.py:422: FutureWarning: `max_features='auto'` has been deprecated in 1.1 and will be removed in 1.3. To keep the past behaviour, explicitly set `max_features='sqrt'` or remove this parameter as it is also the default value for RandomForestClassifiers and ExtraTreesClassifiers.\n",
      "  warn(\n"
     ]
    },
    {
     "name": "stdout",
     "output_type": "stream",
     "text": [
      "[CV] END max_depth=37, max_features=auto, min_samples_leaf=5, min_samples_split=10, n_estimators=300; total time=   1.0s\n"
     ]
    },
    {
     "name": "stderr",
     "output_type": "stream",
     "text": [
      "/Library/Frameworks/Python.framework/Versions/3.10/lib/python3.10/site-packages/sklearn/ensemble/_forest.py:422: FutureWarning: `max_features='auto'` has been deprecated in 1.1 and will be removed in 1.3. To keep the past behaviour, explicitly set `max_features='sqrt'` or remove this parameter as it is also the default value for RandomForestClassifiers and ExtraTreesClassifiers.\n",
      "  warn(\n"
     ]
    },
    {
     "name": "stdout",
     "output_type": "stream",
     "text": [
      "[CV] END max_depth=37, max_features=auto, min_samples_leaf=5, min_samples_split=10, n_estimators=300; total time=   1.0s\n"
     ]
    },
    {
     "name": "stderr",
     "output_type": "stream",
     "text": [
      "/Library/Frameworks/Python.framework/Versions/3.10/lib/python3.10/site-packages/sklearn/ensemble/_forest.py:422: FutureWarning: `max_features='auto'` has been deprecated in 1.1 and will be removed in 1.3. To keep the past behaviour, explicitly set `max_features='sqrt'` or remove this parameter as it is also the default value for RandomForestClassifiers and ExtraTreesClassifiers.\n",
      "  warn(\n"
     ]
    },
    {
     "name": "stdout",
     "output_type": "stream",
     "text": [
      "[CV] END max_depth=37, max_features=auto, min_samples_leaf=5, min_samples_split=10, n_estimators=300; total time=   1.0s\n"
     ]
    },
    {
     "name": "stderr",
     "output_type": "stream",
     "text": [
      "/Library/Frameworks/Python.framework/Versions/3.10/lib/python3.10/site-packages/sklearn/ensemble/_forest.py:422: FutureWarning: `max_features='auto'` has been deprecated in 1.1 and will be removed in 1.3. To keep the past behaviour, explicitly set `max_features='sqrt'` or remove this parameter as it is also the default value for RandomForestClassifiers and ExtraTreesClassifiers.\n",
      "  warn(\n"
     ]
    },
    {
     "name": "stdout",
     "output_type": "stream",
     "text": [
      "[CV] END max_depth=28, max_features=auto, min_samples_leaf=5, min_samples_split=15, n_estimators=1100; total time=   4.5s\n"
     ]
    },
    {
     "name": "stderr",
     "output_type": "stream",
     "text": [
      "/Library/Frameworks/Python.framework/Versions/3.10/lib/python3.10/site-packages/sklearn/ensemble/_forest.py:422: FutureWarning: `max_features='auto'` has been deprecated in 1.1 and will be removed in 1.3. To keep the past behaviour, explicitly set `max_features='sqrt'` or remove this parameter as it is also the default value for RandomForestClassifiers and ExtraTreesClassifiers.\n",
      "  warn(\n"
     ]
    },
    {
     "name": "stdout",
     "output_type": "stream",
     "text": [
      "[CV] END max_depth=28, max_features=auto, min_samples_leaf=5, min_samples_split=15, n_estimators=1100; total time=   4.5s\n"
     ]
    },
    {
     "name": "stderr",
     "output_type": "stream",
     "text": [
      "/Library/Frameworks/Python.framework/Versions/3.10/lib/python3.10/site-packages/sklearn/ensemble/_forest.py:422: FutureWarning: `max_features='auto'` has been deprecated in 1.1 and will be removed in 1.3. To keep the past behaviour, explicitly set `max_features='sqrt'` or remove this parameter as it is also the default value for RandomForestClassifiers and ExtraTreesClassifiers.\n",
      "  warn(\n"
     ]
    },
    {
     "name": "stdout",
     "output_type": "stream",
     "text": [
      "[CV] END max_depth=28, max_features=auto, min_samples_leaf=5, min_samples_split=15, n_estimators=1100; total time=   3.5s\n"
     ]
    },
    {
     "name": "stderr",
     "output_type": "stream",
     "text": [
      "/Library/Frameworks/Python.framework/Versions/3.10/lib/python3.10/site-packages/sklearn/ensemble/_forest.py:422: FutureWarning: `max_features='auto'` has been deprecated in 1.1 and will be removed in 1.3. To keep the past behaviour, explicitly set `max_features='sqrt'` or remove this parameter as it is also the default value for RandomForestClassifiers and ExtraTreesClassifiers.\n",
      "  warn(\n"
     ]
    },
    {
     "name": "stdout",
     "output_type": "stream",
     "text": [
      "Accuracy Score: 0.8052243043725156\n"
     ]
    }
   ],
   "source": [
    "rfc = RandomForestClassifier()\n",
    "\n",
    "param_grid = {'n_estimators':[int(x) for x in np.linspace(start=200,stop=1200,num=11)],\n",
    "            'max_features':['auto','sqrt'],\n",
    "            'max_depth':[int(x) for x in np.linspace(start=10,stop=100,num=11)],\n",
    "            'min_samples_leaf':[1,2,3,5],'min_samples_split':[2,5,10,15]}\n",
    "rcv = RandomizedSearchCV(rfc, param_grid,cv=3,verbose=2,random_state=43)\n",
    "rcv.fit(train_x, train_y)\n",
    "best_random = rcv.best_estimator_\n",
    "predict_cv = best_random.predict(test_x)\n",
    "rfc_accuracy = accuracy_score(test_y, predict_cv)\n",
    "print(f'Accuracy Score: {rfc_accuracy}')\n"
   ]
  },
  {
   "cell_type": "markdown",
   "metadata": {},
   "source": [
    "# XGBoost"
   ]
  },
  {
   "cell_type": "code",
   "execution_count": 22,
   "metadata": {},
   "outputs": [
    {
     "name": "stderr",
     "output_type": "stream",
     "text": [
      "/Library/Frameworks/Python.framework/Versions/3.10/lib/python3.10/site-packages/xgboost/sklearn.py:1224: UserWarning: The use of label encoder in XGBClassifier is deprecated and will be removed in a future release. To remove this warning, do the following: 1) Pass option use_label_encoder=False when constructing XGBClassifier object; and 2) Encode your labels (y) as integers starting with 0, i.e. 0, 1, 2, ..., [num_class - 1].\n",
      "  warnings.warn(label_encoder_deprecation_msg, UserWarning)\n"
     ]
    },
    {
     "name": "stdout",
     "output_type": "stream",
     "text": [
      "[22:39:53] WARNING: /Users/runner/work/xgboost/xgboost/src/learner.cc:1115: Starting in XGBoost 1.3.0, the default evaluation metric used with the objective 'binary:logistic' was changed from 'error' to 'logloss'. Explicitly set eval_metric if you'd like to restore the old behavior.\n",
      "Accuracy Score: 0.7915956842703009\n"
     ]
    }
   ],
   "source": [
    "xgb = XGBClassifier()\n",
    "xgb.fit(train_x, train_y)\n",
    "pred_y = xgb.predict(test_x)\n",
    "xgb_accuracy = accuracy_score(test_y, pred_y)\n",
    "print(f'Accuracy Score: {xgb_accuracy}')"
   ]
  },
  {
   "cell_type": "code",
   "execution_count": null,
   "metadata": {},
   "outputs": [],
   "source": [
    "from sklearn.cluster import KMeans \n",
    "kmeans = KMeans(n_clusters=3)\n",
    "kmeans.fit(telco.drop(['customerID', 'Churn'], axis=1))\n",
    "telco['Cluster'] = kmeans.labels_\n",
    "telco.groupby('Cluster').mean()"
   ]
  },
  {
   "cell_type": "code",
   "execution_count": null,
   "metadata": {},
   "outputs": [],
   "source": [
    "plt.figure(figsize=(15,8))\n",
    "sns.heatmap(telco.groupby('Cluster').mean().T)\n"
   ]
  },
  {
   "cell_type": "markdown",
   "metadata": {},
   "source": [
    "## Logistic Regression"
   ]
  },
  {
   "cell_type": "code",
   "execution_count": 25,
   "metadata": {},
   "outputs": [
    {
     "name": "stdout",
     "output_type": "stream",
     "text": [
      "Training accuracy: 0.8052\n",
      "Test accuracy: 0.8024\n"
     ]
    }
   ],
   "source": [
    "from sklearn.linear_model import LogisticRegression\n",
    "\n",
    "logreg = LogisticRegression()\n",
    "logreg.fit(train_x, train_y)\n",
    "pred_train_y = logreg.predict(train_x)\n",
    "pred_test_y = logreg.predict(test_x)\n",
    "train_accuracy = accuracy_score(train_y, pred_train_y)\n",
    "test_accuracy = accuracy_score(test_y, pred_test_y)\n",
    "print('Training accuracy:', round(train_accuracy, 4))\n",
    "print('Test accuracy:', round(test_accuracy, 4))"
   ]
  },
  {
   "cell_type": "code",
   "execution_count": 26,
   "metadata": {},
   "outputs": [
    {
     "name": "stdout",
     "output_type": "stream",
     "text": [
      "Training precision: 0.6604, Training recall: 1\n",
      "Testing precision: 0.6443, Testing recall: 0.5582\n"
     ]
    }
   ],
   "source": [
    "from sklearn.metrics import precision_score, recall_score\n",
    "\n",
    "train_precision = round(precision_score(train_y, pred_train_y, pos_label='Yes'), 4)\n",
    "test_precision = round(precision_score(test_y, pred_test_y, pos_label='Yes'), 4)\n",
    "test_recall = round(recall_score(test_y, pred_test_y, pos_label='Yes'), 4)\n",
    "train_recall = round(recall_score(train_y, pred_train_y, pos_label='Yes'))\n",
    "\n",
    "print('Training precision: {}, Training recall: {}'.format(train_precision, train_recall))\n",
    "print('Testing precision: {}, Testing recall: {}'.format(test_precision, test_recall))"
   ]
  },
  {
   "cell_type": "markdown",
   "metadata": {},
   "source": [
    "# Regularization\n",
    "Lets introduce a penalty coefficient to address overfitting in order to mak the model more generalizable to unseeen samples."
   ]
  },
  {
   "cell_type": "code",
   "execution_count": 27,
   "metadata": {},
   "outputs": [
    {
     "data": {
      "text/html": [
       "<style type=\"text/css\">\n",
       "#T_01e07_row0_col0, #T_01e07_row0_col1, #T_01e07_row0_col4, #T_01e07_row2_col4, #T_01e07_row3_col2, #T_01e07_row8_col3 {\n",
       "  background-color: red;\n",
       "}\n",
       "</style>\n",
       "<table id=\"T_01e07_\">\n",
       "  <thead>\n",
       "    <tr>\n",
       "      <th class=\"blank level0\" >&nbsp;</th>\n",
       "      <th class=\"col_heading level0 col0\" >C</th>\n",
       "      <th class=\"col_heading level0 col1\" >Non-Zero Coeffs</th>\n",
       "      <th class=\"col_heading level0 col2\" >Accuracy</th>\n",
       "      <th class=\"col_heading level0 col3\" >Precision</th>\n",
       "      <th class=\"col_heading level0 col4\" >Recall</th>\n",
       "    </tr>\n",
       "  </thead>\n",
       "  <tbody>\n",
       "    <tr>\n",
       "      <th id=\"T_01e07_level0_row0\" class=\"row_heading level0 row0\" >0</th>\n",
       "      <td id=\"T_01e07_row0_col0\" class=\"data row0 col0\" >1.000000</td>\n",
       "      <td id=\"T_01e07_row0_col1\" class=\"data row0 col1\" >27.000000</td>\n",
       "      <td id=\"T_01e07_row0_col2\" class=\"data row0 col2\" >0.797842</td>\n",
       "      <td id=\"T_01e07_row0_col3\" class=\"data row0 col3\" >0.635678</td>\n",
       "      <td id=\"T_01e07_row0_col4\" class=\"data row0 col4\" >0.545259</td>\n",
       "    </tr>\n",
       "    <tr>\n",
       "      <th id=\"T_01e07_level0_row1\" class=\"row_heading level0 row1\" >1</th>\n",
       "      <td id=\"T_01e07_row1_col0\" class=\"data row1 col0\" >0.500000</td>\n",
       "      <td id=\"T_01e07_row1_col1\" class=\"data row1 col1\" >26.000000</td>\n",
       "      <td id=\"T_01e07_row1_col2\" class=\"data row1 col2\" >0.800114</td>\n",
       "      <td id=\"T_01e07_row1_col3\" class=\"data row1 col3\" >0.642857</td>\n",
       "      <td id=\"T_01e07_row1_col4\" class=\"data row1 col4\" >0.543103</td>\n",
       "    </tr>\n",
       "    <tr>\n",
       "      <th id=\"T_01e07_level0_row2\" class=\"row_heading level0 row2\" >2</th>\n",
       "      <td id=\"T_01e07_row2_col0\" class=\"data row2 col0\" >0.250000</td>\n",
       "      <td id=\"T_01e07_row2_col1\" class=\"data row2 col1\" >21.000000</td>\n",
       "      <td id=\"T_01e07_row2_col2\" class=\"data row2 col2\" >0.801817</td>\n",
       "      <td id=\"T_01e07_row2_col3\" class=\"data row2 col3\" >0.647059</td>\n",
       "      <td id=\"T_01e07_row2_col4\" class=\"data row2 col4\" >0.545259</td>\n",
       "    </tr>\n",
       "    <tr>\n",
       "      <th id=\"T_01e07_level0_row3\" class=\"row_heading level0 row3\" >3</th>\n",
       "      <td id=\"T_01e07_row3_col0\" class=\"data row3 col0\" >0.100000</td>\n",
       "      <td id=\"T_01e07_row3_col1\" class=\"data row3 col1\" >17.000000</td>\n",
       "      <td id=\"T_01e07_row3_col2\" class=\"data row3 col2\" >0.803521</td>\n",
       "      <td id=\"T_01e07_row3_col3\" class=\"data row3 col3\" >0.652850</td>\n",
       "      <td id=\"T_01e07_row3_col4\" class=\"data row3 col4\" >0.543103</td>\n",
       "    </tr>\n",
       "    <tr>\n",
       "      <th id=\"T_01e07_level0_row4\" class=\"row_heading level0 row4\" >4</th>\n",
       "      <td id=\"T_01e07_row4_col0\" class=\"data row4 col0\" >0.050000</td>\n",
       "      <td id=\"T_01e07_row4_col1\" class=\"data row4 col1\" >16.000000</td>\n",
       "      <td id=\"T_01e07_row4_col2\" class=\"data row4 col2\" >0.800114</td>\n",
       "      <td id=\"T_01e07_row4_col3\" class=\"data row4 col3\" >0.650538</td>\n",
       "      <td id=\"T_01e07_row4_col4\" class=\"data row4 col4\" >0.521552</td>\n",
       "    </tr>\n",
       "    <tr>\n",
       "      <th id=\"T_01e07_level0_row5\" class=\"row_heading level0 row5\" >5</th>\n",
       "      <td id=\"T_01e07_row5_col0\" class=\"data row5 col0\" >0.025000</td>\n",
       "      <td id=\"T_01e07_row5_col1\" class=\"data row5 col1\" >13.000000</td>\n",
       "      <td id=\"T_01e07_row5_col2\" class=\"data row5 col2\" >0.796706</td>\n",
       "      <td id=\"T_01e07_row5_col3\" class=\"data row5 col3\" >0.648876</td>\n",
       "      <td id=\"T_01e07_row5_col4\" class=\"data row5 col4\" >0.497845</td>\n",
       "    </tr>\n",
       "    <tr>\n",
       "      <th id=\"T_01e07_level0_row6\" class=\"row_heading level0 row6\" >6</th>\n",
       "      <td id=\"T_01e07_row6_col0\" class=\"data row6 col0\" >0.010000</td>\n",
       "      <td id=\"T_01e07_row6_col1\" class=\"data row6 col1\" >9.000000</td>\n",
       "      <td id=\"T_01e07_row6_col2\" class=\"data row6 col2\" >0.798410</td>\n",
       "      <td id=\"T_01e07_row6_col3\" class=\"data row6 col3\" >0.686007</td>\n",
       "      <td id=\"T_01e07_row6_col4\" class=\"data row6 col4\" >0.433190</td>\n",
       "    </tr>\n",
       "    <tr>\n",
       "      <th id=\"T_01e07_level0_row7\" class=\"row_heading level0 row7\" >7</th>\n",
       "      <td id=\"T_01e07_row7_col0\" class=\"data row7 col0\" >0.005000</td>\n",
       "      <td id=\"T_01e07_row7_col1\" class=\"data row7 col1\" >3.000000</td>\n",
       "      <td id=\"T_01e07_row7_col2\" class=\"data row7 col2\" >0.788189</td>\n",
       "      <td id=\"T_01e07_row7_col3\" class=\"data row7 col3\" >0.711628</td>\n",
       "      <td id=\"T_01e07_row7_col4\" class=\"data row7 col4\" >0.329741</td>\n",
       "    </tr>\n",
       "    <tr>\n",
       "      <th id=\"T_01e07_level0_row8\" class=\"row_heading level0 row8\" >8</th>\n",
       "      <td id=\"T_01e07_row8_col0\" class=\"data row8 col0\" >0.002500</td>\n",
       "      <td id=\"T_01e07_row8_col1\" class=\"data row8 col1\" >2.000000</td>\n",
       "      <td id=\"T_01e07_row8_col2\" class=\"data row8 col2\" >0.737081</td>\n",
       "      <td id=\"T_01e07_row8_col3\" class=\"data row8 col3\" >1.000000</td>\n",
       "      <td id=\"T_01e07_row8_col4\" class=\"data row8 col4\" >0.002155</td>\n",
       "    </tr>\n",
       "  </tbody>\n",
       "</table>\n"
      ],
      "text/plain": [
       "<pandas.io.formats.style.Styler at 0x1214c3af0>"
      ]
     },
     "execution_count": 27,
     "metadata": {},
     "output_type": "execute_result"
    }
   ],
   "source": [
    "C = [1, .5, .25, .1, .05, .025, .01, .005, .0025]\n",
    "l1_metrics = np.zeros((len(C), 5))\n",
    "l1_metrics[:,0] = C\n",
    "\n",
    "for i in range(0, len(C)):\n",
    "    logreg = LogisticRegression(penalty='l1', C=C[i], solver='liblinear')\n",
    "    logreg.fit(train_x, train_y)\n",
    "    pred_test_y = logreg.predict(test_x)\n",
    "    l1_metrics[i, 1] = np.count_nonzero(logreg.coef_)\n",
    "    l1_metrics[i, 2] = accuracy_score(test_y, pred_test_y)\n",
    "    l1_metrics[i, 3] = precision_score(test_y, pred_test_y, pos_label='Yes')\n",
    "    l1_metrics[i, 4] = recall_score(test_y, pred_test_y, pos_label='Yes')\n",
    "\n",
    "cols = ['C', 'Non-Zero Coeffs', 'Accuracy', 'Precision', 'Recall']\n",
    "pd.DataFrame(l1_metrics, columns=cols).style.highlight_max(color='red', axis=0)"
   ]
  },
  {
   "cell_type": "code",
   "execution_count": 37,
   "metadata": {},
   "outputs": [
    {
     "data": {
      "text/html": [
       "<style type=\"text/css\">\n",
       "#T_963cc_row2_col1 {\n",
       "  background-color: red;\n",
       "}\n",
       "</style>\n",
       "<table id=\"T_963cc_\">\n",
       "  <thead>\n",
       "    <tr>\n",
       "      <th class=\"blank level0\" >&nbsp;</th>\n",
       "      <th class=\"col_heading level0 col0\" >Model</th>\n",
       "      <th class=\"col_heading level0 col1\" >Accuracy</th>\n",
       "    </tr>\n",
       "  </thead>\n",
       "  <tbody>\n",
       "    <tr>\n",
       "      <th id=\"T_963cc_level0_row0\" class=\"row_heading level0 row0\" >0</th>\n",
       "      <td id=\"T_963cc_row0_col0\" class=\"data row0 col0\" >DecisionTreeClassifier</td>\n",
       "      <td id=\"T_963cc_row0_col1\" class=\"data row0 col1\" >0.794435</td>\n",
       "    </tr>\n",
       "    <tr>\n",
       "      <th id=\"T_963cc_level0_row1\" class=\"row_heading level0 row1\" >1</th>\n",
       "      <td id=\"T_963cc_row1_col0\" class=\"data row1 col0\" >LogisticRegression</td>\n",
       "      <td id=\"T_963cc_row1_col1\" class=\"data row1 col1\" >0.802385</td>\n",
       "    </tr>\n",
       "    <tr>\n",
       "      <th id=\"T_963cc_level0_row2\" class=\"row_heading level0 row2\" >2</th>\n",
       "      <td id=\"T_963cc_row2_col0\" class=\"data row2 col0\" >RandomForestClassifier</td>\n",
       "      <td id=\"T_963cc_row2_col1\" class=\"data row2 col1\" >0.805224</td>\n",
       "    </tr>\n",
       "    <tr>\n",
       "      <th id=\"T_963cc_level0_row3\" class=\"row_heading level0 row3\" >3</th>\n",
       "      <td id=\"T_963cc_row3_col0\" class=\"data row3 col0\" >XGBoost</td>\n",
       "      <td id=\"T_963cc_row3_col1\" class=\"data row3 col1\" >0.791596</td>\n",
       "    </tr>\n",
       "  </tbody>\n",
       "</table>\n"
      ],
      "text/plain": [
       "<pandas.io.formats.style.Styler at 0x1217377c0>"
      ]
     },
     "execution_count": 37,
     "metadata": {},
     "output_type": "execute_result"
    }
   ],
   "source": [
    "accuracies = [dtc_accuracy, logreg_accuracy, rfc_accuracy, xgb_accuracy]\n",
    "models = ['DecisionTreeClassifier', 'LogisticRegression', 'RandomForestClassifier', 'XGBoost']\n",
    "\n",
    "results = {}\n",
    "\n",
    "for model, accuracy in zip(models, accuracies):\n",
    "    results[model] = accuracy\n",
    "\n",
    "results_items = results.items()\n",
    "results_list = list(results_items)\n",
    "pd.DataFrame(results_list, columns=['Model','Accuracy']).style.highlight_max(subset='Accuracy', color='red')"
   ]
  },
  {
   "cell_type": "markdown",
   "metadata": {},
   "source": [
    "From the variety of models, we see that Random Forest outperforms the others by using RandomCV.\n",
    "\n",
    "# Conclusion\n",
    "We've gone through various tasks involved in Churn Prediction in this project. Note that finding patterns in EDA is just as important as the final prediction model. Churn prediction tasks often remain incomplete if patterns aren't found in the data through EDA."
   ]
  }
 ],
 "metadata": {
  "interpreter": {
   "hash": "98590ff4fe04c8543246b2a01debd3de3c5ca9b666f43f1fa87d5110c692004c"
  },
  "kernelspec": {
   "display_name": "Python 3.10.0 64-bit",
   "language": "python",
   "name": "python3"
  },
  "language_info": {
   "codemirror_mode": {
    "name": "ipython",
    "version": 3
   },
   "file_extension": ".py",
   "mimetype": "text/x-python",
   "name": "python",
   "nbconvert_exporter": "python",
   "pygments_lexer": "ipython3",
   "version": "3.10.1"
  },
  "orig_nbformat": 4
 },
 "nbformat": 4,
 "nbformat_minor": 2
}
